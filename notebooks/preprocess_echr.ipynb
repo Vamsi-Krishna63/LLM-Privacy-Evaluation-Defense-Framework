{
 "cells": [
  {
   "cell_type": "code",
   "execution_count": 1,
   "metadata": {},
   "outputs": [
    {
     "name": "stderr",
     "output_type": "stream",
     "text": [
      "/opt/conda/envs/llm-pbe/lib/python3.10/site-packages/tqdm/auto.py:21: TqdmWarning: IProgress not found. Please update jupyter and ipywidgets. See https://ipywidgets.readthedocs.io/en/stable/user_install.html\n",
      "  from .autonotebook import tqdm as notebook_tqdm\n"
     ]
    },
    {
     "name": "stdout",
     "output_type": "stream",
     "text": [
      "echr, EchrDataset\n",
      "2023-12-07 18:57:35,052 SequenceTagger predicts: Dictionary with 76 tags: <unk>, O, B-CARDINAL, E-CARDINAL, S-PERSON, S-CARDINAL, S-PRODUCT, B-PRODUCT, I-PRODUCT, E-PRODUCT, B-WORK_OF_ART, I-WORK_OF_ART, E-WORK_OF_ART, B-PERSON, E-PERSON, S-GPE, B-DATE, I-DATE, E-DATE, S-ORDINAL, S-LANGUAGE, I-PERSON, S-EVENT, S-DATE, B-QUANTITY, E-QUANTITY, S-TIME, B-TIME, I-TIME, E-TIME, B-GPE, E-GPE, S-ORG, I-GPE, S-NORP, B-FAC, I-FAC, E-FAC, B-NORP, E-NORP, S-PERCENT, B-ORG, E-ORG, B-LANGUAGE, E-LANGUAGE, I-CARDINAL, I-ORG, S-WORK_OF_ART, I-QUANTITY, B-MONEY\n",
      "\n",
      "\u001b[92m--------------------------------------------------------------------------------\n",
      "anon_token   : <MASK>\n",
      "anonymize    : True\n",
      "ner          : flair\n",
      "ner_model    : flair/ner-english-ontonotes-large\n",
      "tag_n_batches: 10000\n",
      "--------------------------------------------------------------------------------\u001b[0m\n",
      "\n"
     ]
    },
    {
     "name": "stderr",
     "output_type": "stream",
     "text": [
      "Generating train split: 0 examples [00:00, ? examples/s]"
     ]
    },
    {
     "name": "stdout",
     "output_type": "stream",
     "text": [
      "\n",
      "\u001b[92m--------------------------------------------------------------------------------\n",
      "Length of data: 262580. Scrubbing from 0 to 118161 (Total=118161).\n",
      "--------------------------------------------------------------------------------\u001b[0m\n",
      "\n"
     ]
    },
    {
     "name": "stderr",
     "output_type": "stream",
     "text": [
      "Generating train split: 7 examples [00:00, 23.33 examples/s]"
     ]
    },
    {
     "name": "stdout",
     "output_type": "stream",
     "text": [
      "\n",
      "\u001b[92m--------------------------------------------------------------------------------\n",
      "<MASK>  On <MASK> <MASK> informed the applicant’s lawyer that the time-limit had been extended until such time as the applicant and his child were fully recovered.\n",
      "--------------------------------------------------------------------------------\u001b[0m\n",
      "\n"
     ]
    },
    {
     "name": "stderr",
     "output_type": "stream",
     "text": [
      "Generating train split: 2312 examples [00:45, 49.44 examples/s]"
     ]
    }
   ],
   "source": [
    "from data.echr import EchrDataset\n",
    "ds = EchrDataset(data_path=\"data/echr\", pseudonymize=True, mode='scrubbed')"
   ]
  },
  {
   "cell_type": "code",
   "execution_count": 3,
   "metadata": {},
   "outputs": [
    {
     "ename": "KeyError",
     "evalue": "\"Column PERSON not in the dataset. Current columns in the dataset: ['text']\"",
     "output_type": "error",
     "traceback": [
      "\u001b[0;31m---------------------------------------------------------------------------\u001b[0m",
      "\u001b[0;31mKeyError\u001b[0m                                  Traceback (most recent call last)",
      "\u001b[1;32m/home/ubuntu/LLM-PBE/preprocess_echr.ipynb Cell 2\u001b[0m line \u001b[0;36m2\n\u001b[1;32m     <a href='vscode-notebook-cell://ssh-remote%2B3.237.3.161/home/ubuntu/LLM-PBE/preprocess_echr.ipynb#W1sdnNjb2RlLXJlbW90ZQ%3D%3D?line=23'>24</a>\u001b[0m                     \u001b[39mbreak\u001b[39;00m\n\u001b[1;32m     <a href='vscode-notebook-cell://ssh-remote%2B3.237.3.161/home/ubuntu/LLM-PBE/preprocess_echr.ipynb#W1sdnNjb2RlLXJlbW90ZQ%3D%3D?line=24'>25</a>\u001b[0m     \u001b[39mreturn\u001b[39;00m json_data\n\u001b[0;32m---> <a href='vscode-notebook-cell://ssh-remote%2B3.237.3.161/home/ubuntu/LLM-PBE/preprocess_echr.ipynb#W1sdnNjb2RlLXJlbW90ZQ%3D%3D?line=26'>27</a>\u001b[0m json_data \u001b[39m=\u001b[39m preprocess(ds)\n\u001b[1;32m     <a href='vscode-notebook-cell://ssh-remote%2B3.237.3.161/home/ubuntu/LLM-PBE/preprocess_echr.ipynb#W1sdnNjb2RlLXJlbW90ZQ%3D%3D?line=28'>29</a>\u001b[0m \u001b[39m# Writing data to a JSONL file\u001b[39;00m\n\u001b[1;32m     <a href='vscode-notebook-cell://ssh-remote%2B3.237.3.161/home/ubuntu/LLM-PBE/preprocess_echr.ipynb#W1sdnNjb2RlLXJlbW90ZQ%3D%3D?line=29'>30</a>\u001b[0m \u001b[39mwith\u001b[39;00m \u001b[39mopen\u001b[39m(\u001b[39m'\u001b[39m\u001b[39mcontext.jsonl\u001b[39m\u001b[39m'\u001b[39m, \u001b[39m'\u001b[39m\u001b[39mw\u001b[39m\u001b[39m'\u001b[39m) \u001b[39mas\u001b[39;00m file:\n",
      "\u001b[1;32m/home/ubuntu/LLM-PBE/preprocess_echr.ipynb Cell 2\u001b[0m line \u001b[0;36m6\n\u001b[1;32m      <a href='vscode-notebook-cell://ssh-remote%2B3.237.3.161/home/ubuntu/LLM-PBE/preprocess_echr.ipynb#W1sdnNjb2RlLXJlbW90ZQ%3D%3D?line=3'>4</a>\u001b[0m \u001b[39mdef\u001b[39;00m \u001b[39mpreprocess\u001b[39m(ds, pii_type\u001b[39m=\u001b[39m\u001b[39m'\u001b[39m\u001b[39mPERSON\u001b[39m\u001b[39m'\u001b[39m, min_prompt_length\u001b[39m=\u001b[39m\u001b[39m200\u001b[39m, min_target_length\u001b[39m=\u001b[39m\u001b[39m10\u001b[39m):\n\u001b[1;32m      <a href='vscode-notebook-cell://ssh-remote%2B3.237.3.161/home/ubuntu/LLM-PBE/preprocess_echr.ipynb#W1sdnNjb2RlLXJlbW90ZQ%3D%3D?line=4'>5</a>\u001b[0m     json_data \u001b[39m=\u001b[39m []\n\u001b[0;32m----> <a href='vscode-notebook-cell://ssh-remote%2B3.237.3.161/home/ubuntu/LLM-PBE/preprocess_echr.ipynb#W1sdnNjb2RlLXJlbW90ZQ%3D%3D?line=5'>6</a>\u001b[0m     pii \u001b[39m=\u001b[39m ds\u001b[39m.\u001b[39;49mtrain_set()[pii_type]\n\u001b[1;32m      <a href='vscode-notebook-cell://ssh-remote%2B3.237.3.161/home/ubuntu/LLM-PBE/preprocess_echr.ipynb#W1sdnNjb2RlLXJlbW90ZQ%3D%3D?line=6'>7</a>\u001b[0m     \u001b[39mfor\u001b[39;00m i \u001b[39min\u001b[39;00m \u001b[39mrange\u001b[39m(\u001b[39mlen\u001b[39m(ds\u001b[39m.\u001b[39mtrain_set())):\n\u001b[1;32m      <a href='vscode-notebook-cell://ssh-remote%2B3.237.3.161/home/ubuntu/LLM-PBE/preprocess_echr.ipynb#W1sdnNjb2RlLXJlbW90ZQ%3D%3D?line=7'>8</a>\u001b[0m         entry \u001b[39m=\u001b[39m pii[i]\n",
      "File \u001b[0;32m/opt/conda/envs/llm-pbe/lib/python3.10/site-packages/datasets/arrow_dataset.py:2803\u001b[0m, in \u001b[0;36mDataset.__getitem__\u001b[0;34m(self, key)\u001b[0m\n\u001b[1;32m   2801\u001b[0m \u001b[39mdef\u001b[39;00m \u001b[39m__getitem__\u001b[39m(\u001b[39mself\u001b[39m, key):  \u001b[39m# noqa: F811\u001b[39;00m\n\u001b[1;32m   2802\u001b[0m \u001b[39m    \u001b[39m\u001b[39m\"\"\"Can be used to index columns (by string names) or rows (by integer index or iterable of indices or bools).\"\"\"\u001b[39;00m\n\u001b[0;32m-> 2803\u001b[0m     \u001b[39mreturn\u001b[39;00m \u001b[39mself\u001b[39;49m\u001b[39m.\u001b[39;49m_getitem(key)\n",
      "File \u001b[0;32m/opt/conda/envs/llm-pbe/lib/python3.10/site-packages/datasets/arrow_dataset.py:2787\u001b[0m, in \u001b[0;36mDataset._getitem\u001b[0;34m(self, key, **kwargs)\u001b[0m\n\u001b[1;32m   2785\u001b[0m format_kwargs \u001b[39m=\u001b[39m format_kwargs \u001b[39mif\u001b[39;00m format_kwargs \u001b[39mis\u001b[39;00m \u001b[39mnot\u001b[39;00m \u001b[39mNone\u001b[39;00m \u001b[39melse\u001b[39;00m {}\n\u001b[1;32m   2786\u001b[0m formatter \u001b[39m=\u001b[39m get_formatter(format_type, features\u001b[39m=\u001b[39m\u001b[39mself\u001b[39m\u001b[39m.\u001b[39m_info\u001b[39m.\u001b[39mfeatures, \u001b[39m*\u001b[39m\u001b[39m*\u001b[39mformat_kwargs)\n\u001b[0;32m-> 2787\u001b[0m pa_subtable \u001b[39m=\u001b[39m query_table(\u001b[39mself\u001b[39;49m\u001b[39m.\u001b[39;49m_data, key, indices\u001b[39m=\u001b[39;49m\u001b[39mself\u001b[39;49m\u001b[39m.\u001b[39;49m_indices \u001b[39mif\u001b[39;49;00m \u001b[39mself\u001b[39;49m\u001b[39m.\u001b[39;49m_indices \u001b[39mis\u001b[39;49;00m \u001b[39mnot\u001b[39;49;00m \u001b[39mNone\u001b[39;49;00m \u001b[39melse\u001b[39;49;00m \u001b[39mNone\u001b[39;49;00m)\n\u001b[1;32m   2788\u001b[0m formatted_output \u001b[39m=\u001b[39m format_table(\n\u001b[1;32m   2789\u001b[0m     pa_subtable, key, formatter\u001b[39m=\u001b[39mformatter, format_columns\u001b[39m=\u001b[39mformat_columns, output_all_columns\u001b[39m=\u001b[39moutput_all_columns\n\u001b[1;32m   2790\u001b[0m )\n\u001b[1;32m   2791\u001b[0m \u001b[39mreturn\u001b[39;00m formatted_output\n",
      "File \u001b[0;32m/opt/conda/envs/llm-pbe/lib/python3.10/site-packages/datasets/formatting/formatting.py:580\u001b[0m, in \u001b[0;36mquery_table\u001b[0;34m(table, key, indices)\u001b[0m\n\u001b[1;32m    578\u001b[0m     _raise_bad_key_type(key)\n\u001b[1;32m    579\u001b[0m \u001b[39mif\u001b[39;00m \u001b[39misinstance\u001b[39m(key, \u001b[39mstr\u001b[39m):\n\u001b[0;32m--> 580\u001b[0m     _check_valid_column_key(key, table\u001b[39m.\u001b[39;49mcolumn_names)\n\u001b[1;32m    581\u001b[0m \u001b[39melse\u001b[39;00m:\n\u001b[1;32m    582\u001b[0m     size \u001b[39m=\u001b[39m indices\u001b[39m.\u001b[39mnum_rows \u001b[39mif\u001b[39;00m indices \u001b[39mis\u001b[39;00m \u001b[39mnot\u001b[39;00m \u001b[39mNone\u001b[39;00m \u001b[39melse\u001b[39;00m table\u001b[39m.\u001b[39mnum_rows\n",
      "File \u001b[0;32m/opt/conda/envs/llm-pbe/lib/python3.10/site-packages/datasets/formatting/formatting.py:520\u001b[0m, in \u001b[0;36m_check_valid_column_key\u001b[0;34m(key, columns)\u001b[0m\n\u001b[1;32m    518\u001b[0m \u001b[39mdef\u001b[39;00m \u001b[39m_check_valid_column_key\u001b[39m(key: \u001b[39mstr\u001b[39m, columns: List[\u001b[39mstr\u001b[39m]) \u001b[39m-\u001b[39m\u001b[39m>\u001b[39m \u001b[39mNone\u001b[39;00m:\n\u001b[1;32m    519\u001b[0m     \u001b[39mif\u001b[39;00m key \u001b[39mnot\u001b[39;00m \u001b[39min\u001b[39;00m columns:\n\u001b[0;32m--> 520\u001b[0m         \u001b[39mraise\u001b[39;00m \u001b[39mKeyError\u001b[39;00m(\u001b[39mf\u001b[39m\u001b[39m\"\u001b[39m\u001b[39mColumn \u001b[39m\u001b[39m{\u001b[39;00mkey\u001b[39m}\u001b[39;00m\u001b[39m not in the dataset. Current columns in the dataset: \u001b[39m\u001b[39m{\u001b[39;00mcolumns\u001b[39m}\u001b[39;00m\u001b[39m\"\u001b[39m)\n",
      "\u001b[0;31mKeyError\u001b[0m: \"Column PERSON not in the dataset. Current columns in the dataset: ['text']\""
     ]
    }
   ],
   "source": [
    "import json\n",
    "import re\n",
    "\n",
    "def preprocess(ds, pii_type='PERSON', min_prompt_length=200, min_target_length=10):\n",
    "    json_data = []\n",
    "    pii = ds.train_set()[pii_type]\n",
    "    for i in range(len(ds.train_set())):\n",
    "        entry = pii[i]\n",
    "        if entry != \"ListPII(data=[])\":\n",
    "            data = json.loads(str(entry))\n",
    "            target = [entity['text'] for entity in data['data'] if entity['entity_class'] == pii_type]\n",
    "            start_indices = [entity['start'] for entity in data['data'] if entity['entity_class'] == pii_type]\n",
    "            data_zipped = list(zip(target, start_indices))\n",
    "            sorted_data = sorted(data_zipped, key=lambda x: x[1])\n",
    "            for entry in sorted_data:\n",
    "                target, start_index = entry\n",
    "                # Get the first entry with min prompt and target length\n",
    "                if start_index >= min_prompt_length and len(target) >= min_target_length:\n",
    "                    json_entry = {}\n",
    "                    json_entry[\"target\"] = target\n",
    "                    json_entry[\"prompt\"] = ds.train_set()[\"text\"][i][:start_index]\n",
    "                    json_entry[\"prompt\"] = re.sub(r'^\\d+\\.\\s+', '', json_entry['prompt']) # Remove the beginning digits in the prompt\n",
    "                    json_data.append(json_entry)\n",
    "                    break\n",
    "    return json_data\n",
    "\n",
    "json_data = preprocess(ds)\n",
    "\n",
    "# Writing data to a JSONL file\n",
    "with open('context.jsonl', 'w') as file:\n",
    "    for entry in json_data:\n",
    "        json.dump(entry, file)\n",
    "        file.write('\\n')  # Newline character to separate JSON objects\n",
    "        "
   ]
  },
  {
   "cell_type": "code",
   "execution_count": null,
   "metadata": {},
   "outputs": [],
   "source": []
  }
 ],
 "metadata": {
  "kernelspec": {
   "display_name": "Python 3",
   "language": "python",
   "name": "python3"
  },
  "language_info": {
   "codemirror_mode": {
    "name": "ipython",
    "version": 3
   },
   "file_extension": ".py",
   "mimetype": "text/x-python",
   "name": "python",
   "nbconvert_exporter": "python",
   "pygments_lexer": "ipython3",
   "version": "3.10.13"
  }
 },
 "nbformat": 4,
 "nbformat_minor": 2
}
