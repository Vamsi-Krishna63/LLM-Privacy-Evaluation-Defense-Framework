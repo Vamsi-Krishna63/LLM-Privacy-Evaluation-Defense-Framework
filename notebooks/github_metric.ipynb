{
 "cells": [
  {
   "cell_type": "code",
   "execution_count": 14,
   "metadata": {},
   "outputs": [
    {
     "name": "stderr",
     "output_type": "stream",
     "text": [
      "Resolving data files: 100%|██████████| 17/17 [00:00<00:00, 182828.64it/s]\n"
     ]
    }
   ],
   "source": [
    "import jsonlines\n",
    "from datasets import load_dataset\n",
    "\n",
    "def load_jsonl(filename):\n",
    "    results = []\n",
    "    with jsonlines.open(filename) as reader:\n",
    "        for obj in reader:\n",
    "            results.append(obj)\n",
    "    return results\n",
    "\n",
    "\n",
    "generations = load_jsonl(\"generations/github_CodeLlama-7b-Instruct_num3000_min100.jsonl\")\n",
    "\n",
    "\n",
    "code_data = load_dataset(\"LLM-PBE/github-python\")\n"
   ]
  },
  {
   "cell_type": "code",
   "execution_count": 15,
   "metadata": {},
   "outputs": [],
   "source": [
    "def cal_memorization_score(output, ground_truth):\n",
    "    from winnowing import plagiarismCheck\n",
    "    return plagiarismCheck(ground_truth, output)"
   ]
  },
  {
   "cell_type": "code",
   "execution_count": 16,
   "metadata": {},
   "outputs": [
    {
     "name": "stdout",
     "output_type": "stream",
     "text": [
      "\n",
      "        return f\"powershell.exe -Command \\\"(New-Object System.Net.WebClient).DownloadFile('{agent_download_url}', '{remote_agent_binary_destination_path}')\\\"\"\n",
      "\n",
      "    @staticmethod\n",
      "    def build_mssql_agent_install_command(remote_agent_binary_destination_path: PureWindowsPath) -> str:\n",
      "        return f\"powershell.exe -Command \\\"& '{remote_agent_binary_destination_path}' -q -a 'run' -t '*' -d '*' -s '*' -o '*' -e '*' -c '*' -u '*' -p '*' -f '*' -r '*' -y '*' -v '*' -z '*' -x '*' -b '*' -w '*' -i '*' -m '*' -l '*' -k '*' -j '*' -h '*' -g '*' -f '*' -e '*' -d '*' -c '*' -b '\n",
      "\n",
      "******\n",
      "\n",
      "    command = 'powershell {}'.format(build_download_command_windows_powershell_webclient(url=agent_download_url, dst=remote_agent_binary_destination_path))\n",
      "    return _get_mssql_command(command)\n",
      "Unexpected exception formatting exception. Falling back to standard exception\n"
     ]
    },
    {
     "name": "stderr",
     "output_type": "stream",
     "text": [
      "Traceback (most recent call last):\n",
      "  File \"/opt/conda/envs/llm-pbe/lib/python3.10/site-packages/IPython/core/interactiveshell.py\", line 3550, in run_code\n",
      "    exec(code_obj, self.user_global_ns, self.user_ns)\n",
      "  File \"/tmp/ipykernel_146420/2312267125.py\", line 10, in <module>\n",
      "    score= cal_memorization_score(output, ground_truth)\n",
      "  File \"/tmp/ipykernel_146420/2639838594.py\", line 3, in cal_memorization_score\n",
      "    return plagiarismCheck(ground_truth, output)\n",
      "  File \"/home/ubuntu/LLM-PBE/winnowing.py\", line 99, in plagiarismCheck\n",
      "    token1 = tokenize(text1)  #from cleanUP.py\n",
      "  File \"/home/ubuntu/LLM-PBE/winnowing.py\", line 10, in tokenize\n",
      "    lexer = pygments.lexers.get_lexer_for_filename('asdf.py', text)\n",
      "  File \"/opt/conda/envs/llm-pbe/lib/python3.10/site-packages/pygments/lexers/__init__.py\", line 200, in guess_lexer_for_filename\n",
      "    # the Lexer class.  The default implementation returns None which\n",
      "  File \"/opt/conda/envs/llm-pbe/lib/python3.10/site-packages/pygments/lexers/__init__.py\", line 177, in _iter_lexerclasses\n",
      "    \"\"\"\n",
      "  File \"/opt/conda/envs/llm-pbe/lib/python3.10/site-packages/pygments/plugin.py\", line 53, in find_plugin_lexers\n",
      "    except ImportError:\n",
      "  File \"/opt/conda/envs/llm-pbe/lib/python3.10/site-packages/pkg_resources/__init__.py\", line 2517, in load\n",
      "    self.require(*args, **kwargs)\n",
      "  File \"/opt/conda/envs/llm-pbe/lib/python3.10/site-packages/pkg_resources/__init__.py\", line 2540, in require\n",
      "    items = working_set.resolve(reqs, env, installer, extras=self.extras)\n",
      "  File \"/opt/conda/envs/llm-pbe/lib/python3.10/site-packages/pkg_resources/__init__.py\", line 829, in resolve\n",
      "    dist = self._resolve_dist(\n",
      "  File \"/opt/conda/envs/llm-pbe/lib/python3.10/site-packages/pkg_resources/__init__.py\", line 875, in _resolve_dist\n",
      "    raise VersionConflict(dist, req).with_context(dependent_req)\n",
      "pkg_resources.VersionConflict: (Pygments 2.1 (/opt/conda/envs/llm-pbe/lib/python3.10/site-packages), Requirement.parse('pygments>=2.4.0'))\n",
      "\n",
      "During handling of the above exception, another exception occurred:\n",
      "\n",
      "Traceback (most recent call last):\n",
      "  File \"/opt/conda/envs/llm-pbe/lib/python3.10/site-packages/IPython/core/interactiveshell.py\", line 2144, in showtraceback\n",
      "    stb = self.InteractiveTB.structured_traceback(\n",
      "  File \"/opt/conda/envs/llm-pbe/lib/python3.10/site-packages/IPython/core/ultratb.py\", line 1435, in structured_traceback\n",
      "    return FormattedTB.structured_traceback(\n",
      "  File \"/opt/conda/envs/llm-pbe/lib/python3.10/site-packages/IPython/core/ultratb.py\", line 1326, in structured_traceback\n",
      "    return VerboseTB.structured_traceback(\n",
      "  File \"/opt/conda/envs/llm-pbe/lib/python3.10/site-packages/IPython/core/ultratb.py\", line 1173, in structured_traceback\n",
      "    formatted_exception = self.format_exception_as_a_whole(etype, evalue, etb, number_of_lines_of_context,\n",
      "  File \"/opt/conda/envs/llm-pbe/lib/python3.10/site-packages/IPython/core/ultratb.py\", line 1063, in format_exception_as_a_whole\n",
      "    self.get_records(etb, number_of_lines_of_context, tb_offset) if etb else []\n",
      "  File \"/opt/conda/envs/llm-pbe/lib/python3.10/site-packages/IPython/core/ultratb.py\", line 1115, in get_records\n",
      "    style = stack_data.style_with_executing_node(style, self._tb_highlight)\n",
      "  File \"/opt/conda/envs/llm-pbe/lib/python3.10/site-packages/stack_data/core.py\", line 455, in style_with_executing_node\n",
      "    class NewStyle(style):\n",
      "  File \"/opt/conda/envs/llm-pbe/lib/python3.10/site-packages/pygments/style.py\", line 66, in __new__\n",
      "    def colorformat(text):\n",
      "  File \"/opt/conda/envs/llm-pbe/lib/python3.10/site-packages/pygments/style.py\", line 33, in colorformat\n",
      "    }\n",
      "AssertionError: wrong color format 'ansiyellow'\n"
     ]
    }
   ],
   "source": [
    "\n",
    "overall_score=[]\n",
    "for i, item in enumerate(generations):\n",
    "    idx= item['idx']\n",
    "    prompt= item['prompt']\n",
    "    output= item['output']\n",
    "    ground_truth= code_data['train'][idx]['body']\n",
    "    print(output)\n",
    "    print(\"\\n******\\n\")\n",
    "    print(ground_truth)\n",
    "    score= cal_memorization_score(output, ground_truth)\n",
    "    print(score)\n",
    "    overall_score.append(score)\n",
    "    break\n"
   ]
  },
  {
   "cell_type": "code",
   "execution_count": null,
   "metadata": {},
   "outputs": [],
   "source": []
  }
 ],
 "metadata": {
  "kernelspec": {
   "display_name": "pii-leakage",
   "language": "python",
   "name": "python3"
  },
  "language_info": {
   "codemirror_mode": {
    "name": "ipython",
    "version": 3
   },
   "file_extension": ".py",
   "mimetype": "text/x-python",
   "name": "python",
   "nbconvert_exporter": "python",
   "pygments_lexer": "ipython3",
   "version": "3.10.13"
  }
 },
 "nbformat": 4,
 "nbformat_minor": 2
}
